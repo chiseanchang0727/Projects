{
 "cells": [
  {
   "cell_type": "code",
   "execution_count": 4,
   "metadata": {},
   "outputs": [],
   "source": [
    "import pandas as pd\n",
    "import requests\n",
    "from datetime import datetime\n",
    "\n",
    "from sqlalchemy import create_engine"
   ]
  },
  {
   "cell_type": "code",
   "execution_count": 38,
   "metadata": {},
   "outputs": [],
   "source": [
    "def load_data(start_year, end_year):\n",
    "    url = 'https://services9.arcgis.com/weJ1QsnbMYJlCHdG/arcgis/rest/services/Daily_Trade_Data/FeatureServer/0/query?where=year%20%3E%3D%20'+str(start_year)+'%20AND%20year%20%3C%3D%20'+str(end_year)+'&outFields=*&outSR=&f=json'\n",
    "    \n",
    "    response = requests.get(url)\n",
    "    \n",
    "    if response.status_code == 200:\n",
    "        data = response.json()\n",
    "        \n",
    "        features = data.get('features', [])\n",
    "        \n",
    "        attribute_list = [feature['attributes'] for feature in features]\n",
    "        \n",
    "        df = pd.DataFrame(attribute_list)\n",
    "        \n",
    "        df['date'] = pd.to_datetime(df['date'], unit='ms')\n",
    "        \n",
    "    else:\n",
    "        print('no response.')\n",
    "        \n",
    "    return df"
   ]
  },
  {
   "cell_type": "code",
   "execution_count": null,
   "metadata": {},
   "outputs": [],
   "source": [
    "start_year = 2019\n",
    "end_year = datetime.today().year\n",
    "df_concat = pd.DataFrame()\n",
    "\n",
    "for i in range(start_year, end_year, 2):\n",
    "    df_temp = load_data(i, i+1)\n",
    "    df_concat = pd.concat([df_concat, df_temp], axis=0)"
   ]
  },
  {
   "cell_type": "code",
   "execution_count": 35,
   "metadata": {},
   "outputs": [],
   "source": [
    "def export_data(df, connection_str, table_name, method):\n",
    "\n",
    "    engine = create_engine(connection_str)\n",
    "    \n",
    "    df.to_sql(name=table_name, con=engine, if_exists=method, index=False)"
   ]
  },
  {
   "cell_type": "code",
   "execution_count": 39,
   "metadata": {},
   "outputs": [],
   "source": [
    "df_concat['import_time'] = datetime.now()"
   ]
  },
  {
   "cell_type": "code",
   "execution_count": 36,
   "metadata": {},
   "outputs": [],
   "source": [
    "username = 'seanc'\n",
    "password = '!QAZ2wsx'\n",
    "hostname = '127.0.0.1'\n",
    "database_name = 'generaldb'\n",
    "connection_string = f'mysql+pymysql://{username}:{password}@{hostname}/{database_name}'\n",
    "export_data(df_concat, connection_string, 'port_activity', 'replace')"
   ]
  },
  {
   "cell_type": "code",
   "execution_count": 1,
   "metadata": {},
   "outputs": [
    {
     "data": {
      "text/plain": [
       "2.6051710846973517"
      ]
     },
     "execution_count": 1,
     "metadata": {},
     "output_type": "execute_result"
    }
   ],
   "source": [
    "from scipy.stats import gmean\n",
    "\n",
    "data = [1,2,3,4,5]\n",
    "\n",
    "gmean(data)"
   ]
  },
  {
   "cell_type": "code",
   "execution_count": 5,
   "metadata": {},
   "outputs": [
    {
     "data": {
      "text/plain": [
       "260.517108469735"
      ]
     },
     "execution_count": 5,
     "metadata": {},
     "output_type": "execute_result"
    }
   ],
   "source": [
    "data2 = [100,200,300,400,500]\n",
    "gmean(data2)"
   ]
  }
 ],
 "metadata": {
  "kernelspec": {
   "display_name": "base",
   "language": "python",
   "name": "python3"
  },
  "language_info": {
   "codemirror_mode": {
    "name": "ipython",
    "version": 3
   },
   "file_extension": ".py",
   "mimetype": "text/x-python",
   "name": "python",
   "nbconvert_exporter": "python",
   "pygments_lexer": "ipython3",
   "version": "3.10.9"
  }
 },
 "nbformat": 4,
 "nbformat_minor": 2
}
